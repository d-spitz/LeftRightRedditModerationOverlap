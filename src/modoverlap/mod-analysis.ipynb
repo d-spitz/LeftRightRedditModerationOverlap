{
 "cells": [
  {
   "cell_type": "code",
   "execution_count": null,
   "id": "0c55d96f-cd02-4779-b3d9-fcca109dda57",
   "metadata": {},
   "outputs": [],
   "source": [
    "import logging\n",
    "from collections import defaultdict\n",
    "\n",
    "import networkx as nx\n",
    "import praw\n",
    "import json\n",
    "import pandas as pd\n",
    "import tqdm.notebook as tqdm\n",
    "from tinydb import TinyDB, Query\n",
    "import hashlib\n",
    "\n",
    "# Thanks to https://github.com/almayor/reddit-mod-overlap for the great work\n",
    "# and permission to use this code"
   ]
  },
  {
   "cell_type": "code",
   "execution_count": null,
   "id": "e7e9df0d-c6a6-4969-a259-66094fc856fe",
   "metadata": {},
   "outputs": [],
   "source": [
    "logging.basicConfig(level=logging.INFO)\n",
    "\n",
    "Mod = Query()\n",
    "Bot = Query()\n",
    "Sub = Query()"
   ]
  },
  {
   "cell_type": "code",
   "execution_count": null,
   "id": "408e06b7-6a75-4fb3-a97c-87dad90f4a1f",
   "metadata": {},
   "outputs": [],
   "source": [
    "KNOWN_BOTS = {\n",
    "    'mod-mentions',\n",
    "    'hive-protect',\n",
    "    'comment-nuke',\n",
    "    'purge-user',\n",
    "    'spam-nuke',\n",
    "    'modmail-userinfo',\n",
    "    'onedayflair',\n",
    "    'AutoModerator'\n",
    "}\n",
    "\n",
    "# determines left or right\n",
    "OUTPUTFILEPATH = \"../test_subredditdata/mods/right/\"\n",
    "INPUTJSONNAME = \"../input/rightsubreddits.json\"\n",
    "\n",
    "SUBSLIST = []\n",
    "KNOWN_QUARANTINED = {\"TheRedPill\"}\n",
    "with open(INPUTJSONNAME, 'r') as subsjson:\n",
    "    data = json.load(subsjson)\n",
    "    SUBSLIST = data[\"subreddits\"][:]\n",
    "print(SUBSLIST)\n"
   ]
  },
  {
   "cell_type": "code",
   "execution_count": null,
   "id": "289c54e4-3627-4fb9-a15a-8dbd8cbb35a8",
   "metadata": {},
   "outputs": [],
   "source": [
    "class Wanderer:\n",
    "\n",
    "    reddit = None\n",
    "    db_mods = None\n",
    "    db_bots = None\n",
    "    db_subs = None\n",
    "    \n",
    "    def __init__(self):\n",
    "        self.reddit = self.reddit or praw.Reddit(\n",
    "            client_id=\"REDACTED\",\n",
    "            client_secret=\"REDACTED\",\n",
    "            user_agent=\"REDACTED\",\n",
    "            username=\"REDACTED\",\n",
    "            password=\"REDACTED\")\n",
    "        \n",
    "        self.db_mods = self.db_mods or TinyDB(OUTPUTFILEPATH + 'mods.json')\n",
    "        self.db_bots = self.db_bots or TinyDB(OUTPUTFILEPATH + 'bots.json')\n",
    "        self.db_subs = self.db_subs or TinyDB(OUTPUTFILEPATH + 'subs.json')\n",
    "        \n",
    "        self.subs_searched = set()\n",
    "        self.mods_searched = set()\n",
    "\n",
    "\n",
    "    def get_sub_size(self, sub_name):\n",
    "        if not self.db_subs.search(Sub.name == sub_name):\n",
    "            nsubscr = self.reddit.subreddit(sub_name).subscribers\n",
    "            self.db_subs.insert({'name': sub_name, 'nsubscr': nsubscr})\n",
    "            return nsubscr\n",
    "        else:\n",
    "            return self.db_subs.search(Sub.name == sub_name)[0]['nsubscr']\n",
    "\n",
    "    \n",
    "    def wander(self, depth, start_sub_name=None, mods_queue=None, subs_queue=None):\n",
    "        self.mods_queue = mods_queue or []\n",
    "        self.subs_queue = subs_queue or []\n",
    "        if isinstance(start_sub_name, list):\n",
    "            self.subs_queue = [self.reddit.subreddit(s) for s in start_sub_name]\n",
    "        elif isinstance(start_sub_name, str):\n",
    "            self.subs_queue = [self.reddit.subreddit(start_sub_name)]\n",
    "\n",
    "        while depth >= 0:\n",
    "            for sub in tqdm.tqdm(self.subs_queue):\n",
    "                sub_name = sub.display_name\n",
    "                logging.info(f'Processing sub {sub_name}')\n",
    "                for mod in sub.moderator():\n",
    "                    mod_name = mod.name\n",
    "                    if self.is_bot(mod):\n",
    "                        logging.info(f'BOT: {mod_name}')\n",
    "                    elif mod_name not in self.mods_searched:\n",
    "                        self.mods_queue.append(mod)\n",
    "                        logging.info(f'Added mod {mod_name} to queue')\n",
    "                self.subs_searched.add(sub_name)\n",
    "            logging.info(f'{len(self.mods_queue)} mods in queue')\n",
    "            self.subs_queue = []\n",
    "\n",
    "            for mod in tqdm.tqdm(self.mods_queue):\n",
    "                mod_name = mod.name\n",
    "                logging.info(f'Processing mod {mod_name}')\n",
    "                for sub in mod.moderated():\n",
    "                    sub_name = sub.display_name\n",
    "                    if sub.subscribers < 1000:\n",
    "                        logging.info(f'TINY SUB: {sub_name}')\n",
    "                        continue\n",
    "                    if not (self.db_mods.search((Mod.mod == mod_name) & (Mod.sub == sub_name))):\n",
    "                        self.db_mods.insert({'mod': mod_name, 'sub': sub_name})\n",
    "                    if sub_name not in self.subs_searched:\n",
    "                        self.subs_queue.append(sub)\n",
    "                        logging.info(f'Added sub {sub_name} to queue')\n",
    "                self.mods_searched.add(mod_name)\n",
    "            logging.info(f'{len(self.subs_queue)} subs in queue')\n",
    "            self.mods_queue = []\n",
    "    \n",
    "            depth -= 1\n",
    "\n",
    "    def nodepth_wander(self, start_sub_name=None, mods_queue=None, subs_queue=None):\n",
    "        self.mods_queue = mods_queue or []\n",
    "        self.subs_queue = subs_queue or []\n",
    "\n",
    "        def enter_subreddit(cur_sub_name):\n",
    "            current_sub = self.reddit.subreddit(cur_sub_name)\n",
    "            if current_sub in KNOWN_QUARANTINED:\n",
    "                current_sub.quaran.opt_in()\n",
    "            return current_sub\n",
    "\n",
    "        if isinstance(start_sub_name, list):\n",
    "            self.subs_queue = [enter_subreddit(s) for s in start_sub_name]\n",
    "        elif isinstance(start_sub_name, str):\n",
    "            self.subs_queue = [enter_subreddit(start_sub_name)]\n",
    "\n",
    "        for sub in tqdm.tqdm(self.subs_queue):\n",
    "            sub_name = sub.display_name\n",
    "            logging.info(f'Processing sub {sub_name}')\n",
    "            for mod in sub.moderator():\n",
    "                mod_name = mod.name\n",
    "                if self.is_bot(mod):\n",
    "                    logging.info(f'BOT: {mod_name}')\n",
    "                elif not (self.db_mods.search((Mod.mod == mod_name) & (Mod.sub == sub_name))):\n",
    "                    self.db_mods.insert({'mod': mod_name, 'sub': sub_name})\n",
    "            self.subs_searched.add(sub_name)\n",
    "\n",
    "\n",
    "    def is_bot(self, mod):\n",
    "        mod_name = mod.name\n",
    "        if self.db_bots.search(Bot.name == mod_name):\n",
    "            return True\n",
    "        if mod_name.lower().startswith('bot'):\n",
    "            self.db_bots.insert({'name': mod_name})\n",
    "            return True\n",
    "        if mod_name.lower().endswith('bot'):\n",
    "            self.db_bots.insert({'name': mod_name})\n",
    "            return True\n",
    "        if mod_name in KNOWN_BOTS:\n",
    "            self.db_bots.insert({'name': mod_name})\n",
    "            return True\n",
    "        if len(mod.moderated()) > 500:\n",
    "            self.db_bots.insert({'bot': mod_name})\n",
    "            return True \n",
    "        return False\n",
    "            "
   ]
  },
  {
   "cell_type": "code",
   "execution_count": null,
   "id": "fd50f83d-42e1-4ca0-a2aa-b5673e0ed1c4",
   "metadata": {},
   "outputs": [],
   "source": [
    "wanderer = Wanderer()\n",
    "# wanderer.wander(0, SUBSLIST)\n",
    "wanderer.wander(1, \"conservatives\")"
   ]
  },
  {
   "cell_type": "code",
   "execution_count": null,
   "id": "5a7b9215-66b9-4b0a-8d9b-4fc3ad4c6279",
   "metadata": {},
   "outputs": [],
   "source": [
    "df_mods = pd.DataFrame(wanderer.db_mods.all())\n",
    "print(df_mods['sub'].nunique())\n",
    "print(df_mods['sub'].count())"
   ]
  },
  {
   "cell_type": "code",
   "execution_count": null,
   "id": "81e0a681-870b-40c4-b679-6d1deda443c1",
   "metadata": {},
   "outputs": [],
   "source": [
    "for sub in tqdm.tqdm(df_mods['sub'].unique()):\n",
    "    wanderer.get_sub_size(sub)"
   ]
  },
  {
   "cell_type": "code",
   "execution_count": null,
   "id": "e2b73d5d-574f-4046-a29f-0329219830ea",
   "metadata": {},
   "outputs": [],
   "source": [
    "df_subs = pd.DataFrame(wanderer.db_subs.all())\n",
    "print(df_subs)\n",
    "df_mods = df_mods.merge(df_subs, left_on='sub', right_on='name', how='left')"
   ]
  },
  {
   "cell_type": "code",
   "execution_count": null,
   "id": "b9ed0962-afc4-415e-8113-48832993389c",
   "metadata": {},
   "outputs": [],
   "source": [
    "# df_mods = df_mods[df_mods['nsubscr'] > 5000]"
   ]
  },
  {
   "cell_type": "code",
   "execution_count": null,
   "id": "cac283de-b66e-43ac-a5b5-a56a2de06599",
   "metadata": {},
   "outputs": [],
   "source": [
    "print(df_mods['sub'].nunique())\n",
    "print(df_mods['sub'].count())"
   ]
  },
  {
   "cell_type": "code",
   "execution_count": null,
   "id": "feaafc69-2d1a-4b67-a4a5-d2678034c6b8",
   "metadata": {},
   "outputs": [],
   "source": [
    "df_nodes = df_mods.groupby('sub')['mod'].apply(list).reset_index()\n",
    "# degree filter\n",
    "\n",
    "selected_subs = df_nodes['sub'].unique()\n",
    "# selected_subs = df_nodes[df_nodes['mod'].str.len() >= 2]['sub'].unique()\n",
    "print(selected_subs)\n"
   ]
  },
  {
   "cell_type": "code",
   "execution_count": null,
   "id": "62c16cab-0056-427b-bf52-761d2f6e20d7",
   "metadata": {},
   "outputs": [],
   "source": [
    "filter = df_mods['sub'].isin(selected_subs)\n",
    "df_edges = df_mods[filter].groupby('mod')['sub'].apply(list).reset_index()"
   ]
  },
  {
   "cell_type": "code",
   "execution_count": null,
   "id": "ab05a50b-4bc6-4f1f-8b00-56c418e4d6e9",
   "metadata": {},
   "outputs": [],
   "source": [
    "print(len(df_edges))\n",
    "df_edges.head()"
   ]
  },
  {
   "cell_type": "code",
   "execution_count": null,
   "id": "9d9acabd-9733-4592-b30b-9ec12a80614d",
   "metadata": {},
   "outputs": [],
   "source": [
    "edge_weight_dict = defaultdict(int)\n",
    "for _, row in tqdm.tqdm(df_edges.iterrows(), total=len(df_edges)):\n",
    "    if len(row['sub']) > 1:\n",
    "        mod = row['mod']\n",
    "        for i, sub1 in enumerate(row['sub']):\n",
    "            for sub2 in row['sub'][:i]:\n",
    "                key = (sub1, sub2) if sub1 < sub2 else (sub2, sub1)\n",
    "                edge_weight_dict[key] += 1 "
   ]
  },
  {
   "cell_type": "code",
   "execution_count": null,
   "id": "95ee822b-0e85-40c7-9bd9-6206c3248b56",
   "metadata": {},
   "outputs": [],
   "source": [
    "g = nx.Graph()\n",
    "\n",
    "for _, row in df_subs[df_subs['name'].isin(selected_subs)].iterrows():\n",
    "    g.add_node(row['name'], size=row['nsubscr'])\n",
    "\n",
    "for (sub1, sub2), weight in edge_weight_dict.items():\n",
    "    g.add_edge(sub1, sub2, weight=weight)"
   ]
  },
  {
   "cell_type": "code",
   "execution_count": null,
   "id": "d90a8bba-cec8-46e8-a9e0-e37b78d8e7d6",
   "metadata": {},
   "outputs": [],
   "source": [
    "nx.write_gexf(g, OUTPUTFILEPATH + 'mods.gexf')"
   ]
  },
  {
   "cell_type": "code",
   "execution_count": null,
   "id": "c7158c53-42ad-40aa-a50c-87f6f9d4aa5d",
   "metadata": {},
   "outputs": [],
   "source": [
    "# anonymize mod usernames\n",
    "\n",
    "def anonymize_username(u):\n",
    "    return hashlib.sha256(u.encode()).hexdigest()\n",
    "\n",
    "db = TinyDB(OUTPUTFILEPATH + 'mods.json')\n",
    "anon_db = TinyDB(OUTPUTFILEPATH + 'anon_mods.json')\n",
    "\n",
    "for d in db:\n",
    "    username, sub = d.values()\n",
    "    anon_db.insert({\"mod\" : anonymize_username(username), \"sub\" : sub})\n"
   ]
  }
 ],
 "metadata": {
  "kernelspec": {
   "display_name": "Python 3 (ipykernel)",
   "language": "python",
   "name": "python3"
  },
  "language_info": {
   "codemirror_mode": {
    "name": "ipython",
    "version": 3
   },
   "file_extension": ".py",
   "mimetype": "text/x-python",
   "name": "python",
   "nbconvert_exporter": "python",
   "pygments_lexer": "ipython3",
   "version": "3.10.12"
  },
  "toc": {
   "base_numbering": 1,
   "nav_menu": {},
   "number_sections": true,
   "sideBar": true,
   "skip_h1_title": false,
   "title_cell": "Table of Contents",
   "title_sidebar": "Contents",
   "toc_cell": false,
   "toc_position": {},
   "toc_section_display": true,
   "toc_window_display": false
  }
 },
 "nbformat": 4,
 "nbformat_minor": 5
}
